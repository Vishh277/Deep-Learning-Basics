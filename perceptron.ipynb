{
 "cells": [
  {
   "cell_type": "code",
   "execution_count": 1,
   "id": "bb816764",
   "metadata": {
    "execution": {
     "iopub.execute_input": "2023-07-04T08:39:43.328289Z",
     "iopub.status.busy": "2023-07-04T08:39:43.327869Z",
     "iopub.status.idle": "2023-07-04T08:39:43.341889Z",
     "shell.execute_reply": "2023-07-04T08:39:43.340256Z"
    },
    "papermill": {
     "duration": 0.032127,
     "end_time": "2023-07-04T08:39:43.344905",
     "exception": false,
     "start_time": "2023-07-04T08:39:43.312778",
     "status": "completed"
    },
    "tags": []
   },
   "outputs": [
    {
     "name": "stdout",
     "output_type": "stream",
     "text": [
      "Perceptron\n"
     ]
    }
   ],
   "source": [
    "print('Perceptron')"
   ]
  },
  {
   "cell_type": "code",
   "execution_count": 2,
   "id": "6a246005",
   "metadata": {
    "execution": {
     "iopub.execute_input": "2023-07-04T08:39:43.370920Z",
     "iopub.status.busy": "2023-07-04T08:39:43.370464Z",
     "iopub.status.idle": "2023-07-04T08:39:45.480743Z",
     "shell.execute_reply": "2023-07-04T08:39:45.479408Z"
    },
    "papermill": {
     "duration": 2.127,
     "end_time": "2023-07-04T08:39:45.483734",
     "exception": false,
     "start_time": "2023-07-04T08:39:43.356734",
     "status": "completed"
    },
    "tags": []
   },
   "outputs": [],
   "source": [
    "import numpy as np\n",
    "import pandas as pd\n",
    "import random\n",
    "import seaborn as sns\n",
    "import matplotlib.pyplot as plt\n",
    "\n",
    "from sklearn import datasets"
   ]
  },
  {
   "cell_type": "code",
   "execution_count": 3,
   "id": "71a2f8ec",
   "metadata": {
    "execution": {
     "iopub.execute_input": "2023-07-04T08:39:45.509016Z",
     "iopub.status.busy": "2023-07-04T08:39:45.508585Z",
     "iopub.status.idle": "2023-07-04T08:39:45.524546Z",
     "shell.execute_reply": "2023-07-04T08:39:45.523551Z"
    },
    "papermill": {
     "duration": 0.031825,
     "end_time": "2023-07-04T08:39:45.527096",
     "exception": false,
     "start_time": "2023-07-04T08:39:45.495271",
     "status": "completed"
    },
    "tags": []
   },
   "outputs": [],
   "source": [
    "# Create a random Binary ClassificationDataset\n",
    "\n",
    "X,y = datasets.make_classification(n_samples=110,\n",
    "                                   n_features=2,\n",
    "                                   n_classes=2,\n",
    "                                   n_redundant=0,\n",
    "                                   n_clusters_per_class=1,\n",
    "                                   random_state=111)"
   ]
  },
  {
   "cell_type": "code",
   "execution_count": 4,
   "id": "4669397c",
   "metadata": {
    "execution": {
     "iopub.execute_input": "2023-07-04T08:39:45.551219Z",
     "iopub.status.busy": "2023-07-04T08:39:45.550584Z",
     "iopub.status.idle": "2023-07-04T08:39:45.557807Z",
     "shell.execute_reply": "2023-07-04T08:39:45.556828Z"
    },
    "papermill": {
     "duration": 0.021976,
     "end_time": "2023-07-04T08:39:45.560196",
     "exception": false,
     "start_time": "2023-07-04T08:39:45.538220",
     "status": "completed"
    },
    "tags": []
   },
   "outputs": [
    {
     "data": {
      "text/plain": [
       "(110, 2)"
      ]
     },
     "execution_count": 4,
     "metadata": {},
     "output_type": "execute_result"
    }
   ],
   "source": [
    "X.shape"
   ]
  },
  {
   "cell_type": "code",
   "execution_count": 5,
   "id": "3ef990ee",
   "metadata": {
    "execution": {
     "iopub.execute_input": "2023-07-04T08:39:45.585383Z",
     "iopub.status.busy": "2023-07-04T08:39:45.584673Z",
     "iopub.status.idle": "2023-07-04T08:39:45.599012Z",
     "shell.execute_reply": "2023-07-04T08:39:45.597545Z"
    },
    "papermill": {
     "duration": 0.030101,
     "end_time": "2023-07-04T08:39:45.601675",
     "exception": false,
     "start_time": "2023-07-04T08:39:45.571574",
     "status": "completed"
    },
    "tags": []
   },
   "outputs": [
    {
     "data": {
      "text/plain": [
       "array([[-0.44193654, -0.34560667],\n",
       "       [-0.90183151, -0.87165028],\n",
       "       [-0.52679331,  2.64227684],\n",
       "       [-0.82424115,  0.99326537],\n",
       "       [-1.56054764,  1.35612462],\n",
       "       [ 1.05409356, -0.62600405],\n",
       "       [-0.42242299, -0.70438792],\n",
       "       [ 0.88297495, -0.34248587],\n",
       "       [-0.43385582,  2.33612008],\n",
       "       [-1.05180553,  3.06588182],\n",
       "       [-2.30173753,  2.96510833],\n",
       "       [ 0.8747818 ,  0.54058374],\n",
       "       [ 1.22124413, -1.72554515],\n",
       "       [ 1.11308274, -1.30628681],\n",
       "       [-0.98660851,  2.52285133],\n",
       "       [-1.48522589,  2.52877879],\n",
       "       [-0.02614976, -1.44524661],\n",
       "       [-1.62535589,  1.7118749 ],\n",
       "       [-1.8914247 ,  2.0801512 ],\n",
       "       [ 0.99874014, -0.9111644 ],\n",
       "       [-0.61389744,  2.8447813 ],\n",
       "       [-1.28599466, -0.36207196],\n",
       "       [-0.19797499,  1.41966717],\n",
       "       [-0.65813717, -1.22594965],\n",
       "       [ 0.73844677, -0.78598552],\n",
       "       [ 1.23018341, -1.84348796],\n",
       "       [-1.51913507,  0.56510435],\n",
       "       [-1.18862901,  2.27767322],\n",
       "       [ 0.90885449, -0.947463  ],\n",
       "       [ 1.37458604, -0.91589981],\n",
       "       [ 0.50344348,  0.53088052],\n",
       "       [ 1.27151166, -1.27458777],\n",
       "       [ 0.04652957,  2.36325991],\n",
       "       [ 0.86458144, -0.29173246],\n",
       "       [ 0.89809359, -0.23682419],\n",
       "       [ 0.92680207, -0.63505294],\n",
       "       [ 1.23177919, -2.12537319],\n",
       "       [-0.01849842, -0.88244484],\n",
       "       [-0.15045527,  0.68843264],\n",
       "       [ 1.1503256 , -1.0803738 ],\n",
       "       [-0.54126429,  2.3255738 ],\n",
       "       [ 0.81984929, -0.06764155],\n",
       "       [ 0.71479298, -0.79995637],\n",
       "       [-2.27913909, -0.20520098],\n",
       "       [-0.93871782,  0.57730084],\n",
       "       [-0.84321956,  1.96531106],\n",
       "       [ 1.2113048 , -0.22185618],\n",
       "       [ 0.91154318, -1.03963306],\n",
       "       [ 0.81953798,  0.0342534 ],\n",
       "       [ 0.84777373,  0.65826601],\n",
       "       [-0.43374786,  1.65531324],\n",
       "       [ 0.80985739, -1.16760584],\n",
       "       [-0.99470478, -0.95976216],\n",
       "       [ 0.95796228, -0.30979669],\n",
       "       [ 0.515436  ,  0.4380387 ],\n",
       "       [ 1.32175122, -1.83456746],\n",
       "       [ 0.62123483,  0.55513566],\n",
       "       [-1.22555308,  0.07394496],\n",
       "       [ 0.94952024, -0.76637352],\n",
       "       [-1.05475375,  0.79837784],\n",
       "       [ 0.96102832, -0.0034488 ],\n",
       "       [-0.42435244, -0.65433251],\n",
       "       [-0.06431934,  0.66703973],\n",
       "       [ 0.95963515, -1.50607769],\n",
       "       [-1.64198706,  1.39177639],\n",
       "       [ 1.12035191, -0.43316305],\n",
       "       [ 1.56173551, -1.30151363],\n",
       "       [-1.82954965,  2.48508429],\n",
       "       [ 0.72770932, -1.17843399],\n",
       "       [ 1.0976075 , -0.82407575],\n",
       "       [-1.45034349,  1.48967556],\n",
       "       [-0.46353244,  0.75436478],\n",
       "       [ 1.35638262, -2.8984234 ],\n",
       "       [ 1.14559051, -2.18270942],\n",
       "       [-1.43389291,  1.05577327],\n",
       "       [-0.14623326,  0.18535002],\n",
       "       [ 1.02232578, -1.15004977],\n",
       "       [ 0.82533703, -0.23938791],\n",
       "       [-1.97253891, -0.86773097],\n",
       "       [ 0.99107602, -0.48932777],\n",
       "       [-0.69742619,  0.74804791],\n",
       "       [ 1.09267646, -0.92086787],\n",
       "       [-0.93792838,  1.59216422],\n",
       "       [ 0.60998176, -0.01927002],\n",
       "       [ 0.51574855, -0.28015071],\n",
       "       [-0.45663391,  1.29240261],\n",
       "       [ 0.71760859, -1.01511329],\n",
       "       [-1.59549511, -1.33287666],\n",
       "       [ 1.10149416, -2.46270092],\n",
       "       [ 0.67974475, -0.19282472],\n",
       "       [-0.57414774,  1.88447557],\n",
       "       [ 0.91330088, -1.33009563],\n",
       "       [-1.02723366, -0.16381155],\n",
       "       [ 1.09307329, -1.31763223],\n",
       "       [-0.42209736, -0.72042696],\n",
       "       [-0.01181099,  1.38991559],\n",
       "       [-0.52290153, -0.41341751],\n",
       "       [-1.32790544,  2.12214895],\n",
       "       [ 1.123684  , -1.56998398],\n",
       "       [ 1.00247541, -0.94754107],\n",
       "       [ 0.62968307,  1.16082323],\n",
       "       [ 0.74938821,  0.08772085],\n",
       "       [-0.73753076, -0.66065796],\n",
       "       [-2.15218132,  1.84936806],\n",
       "       [ 1.5002205 , -2.49208612],\n",
       "       [ 0.29935985,  1.37754395],\n",
       "       [ 1.12979371, -0.68778095],\n",
       "       [-1.19500529,  0.50190382],\n",
       "       [ 0.9334346 , -0.847845  ],\n",
       "       [-0.20009004,  0.97456712]])"
      ]
     },
     "execution_count": 5,
     "metadata": {},
     "output_type": "execute_result"
    }
   ],
   "source": [
    "X"
   ]
  },
  {
   "cell_type": "code",
   "execution_count": 6,
   "id": "01429eb8",
   "metadata": {
    "execution": {
     "iopub.execute_input": "2023-07-04T08:39:45.627855Z",
     "iopub.status.busy": "2023-07-04T08:39:45.626650Z",
     "iopub.status.idle": "2023-07-04T08:39:45.633605Z",
     "shell.execute_reply": "2023-07-04T08:39:45.632488Z"
    },
    "papermill": {
     "duration": 0.022208,
     "end_time": "2023-07-04T08:39:45.636147",
     "exception": false,
     "start_time": "2023-07-04T08:39:45.613939",
     "status": "completed"
    },
    "tags": []
   },
   "outputs": [
    {
     "data": {
      "text/plain": [
       "(110,)"
      ]
     },
     "execution_count": 6,
     "metadata": {},
     "output_type": "execute_result"
    }
   ],
   "source": [
    "y.shape"
   ]
  },
  {
   "cell_type": "code",
   "execution_count": 7,
   "id": "c94b7e61",
   "metadata": {
    "execution": {
     "iopub.execute_input": "2023-07-04T08:39:45.662434Z",
     "iopub.status.busy": "2023-07-04T08:39:45.661774Z",
     "iopub.status.idle": "2023-07-04T08:39:45.666756Z",
     "shell.execute_reply": "2023-07-04T08:39:45.665592Z"
    },
    "papermill": {
     "duration": 0.022021,
     "end_time": "2023-07-04T08:39:45.669823",
     "exception": false,
     "start_time": "2023-07-04T08:39:45.647802",
     "status": "completed"
    },
    "tags": []
   },
   "outputs": [],
   "source": [
    "#y"
   ]
  },
  {
   "cell_type": "code",
   "execution_count": 8,
   "id": "85b67f10",
   "metadata": {
    "execution": {
     "iopub.execute_input": "2023-07-04T08:39:45.695093Z",
     "iopub.status.busy": "2023-07-04T08:39:45.694695Z",
     "iopub.status.idle": "2023-07-04T08:39:45.702020Z",
     "shell.execute_reply": "2023-07-04T08:39:45.700809Z"
    },
    "papermill": {
     "duration": 0.02278,
     "end_time": "2023-07-04T08:39:45.704371",
     "exception": false,
     "start_time": "2023-07-04T08:39:45.681591",
     "status": "completed"
    },
    "tags": []
   },
   "outputs": [
    {
     "data": {
      "text/plain": [
       "(110,)"
      ]
     },
     "execution_count": 8,
     "metadata": {},
     "output_type": "execute_result"
    }
   ],
   "source": [
    "y.shape"
   ]
  },
  {
   "cell_type": "code",
   "execution_count": 9,
   "id": "455f9cce",
   "metadata": {
    "execution": {
     "iopub.execute_input": "2023-07-04T08:39:45.730270Z",
     "iopub.status.busy": "2023-07-04T08:39:45.729826Z",
     "iopub.status.idle": "2023-07-04T08:39:45.771140Z",
     "shell.execute_reply": "2023-07-04T08:39:45.769956Z"
    },
    "papermill": {
     "duration": 0.057452,
     "end_time": "2023-07-04T08:39:45.773876",
     "exception": false,
     "start_time": "2023-07-04T08:39:45.716424",
     "status": "completed"
    },
    "tags": []
   },
   "outputs": [
    {
     "data": {
      "text/html": [
       "<div>\n",
       "<style scoped>\n",
       "    .dataframe tbody tr th:only-of-type {\n",
       "        vertical-align: middle;\n",
       "    }\n",
       "\n",
       "    .dataframe tbody tr th {\n",
       "        vertical-align: top;\n",
       "    }\n",
       "\n",
       "    .dataframe thead th {\n",
       "        text-align: right;\n",
       "    }\n",
       "</style>\n",
       "<table border=\"1\" class=\"dataframe\">\n",
       "  <thead>\n",
       "    <tr style=\"text-align: right;\">\n",
       "      <th></th>\n",
       "      <th>feature1</th>\n",
       "      <th>feature2</th>\n",
       "      <th>target</th>\n",
       "    </tr>\n",
       "  </thead>\n",
       "  <tbody>\n",
       "    <tr>\n",
       "      <th>0</th>\n",
       "      <td>-0.441937</td>\n",
       "      <td>-0.345607</td>\n",
       "      <td>0</td>\n",
       "    </tr>\n",
       "    <tr>\n",
       "      <th>1</th>\n",
       "      <td>-0.901832</td>\n",
       "      <td>-0.871650</td>\n",
       "      <td>0</td>\n",
       "    </tr>\n",
       "    <tr>\n",
       "      <th>2</th>\n",
       "      <td>-0.526793</td>\n",
       "      <td>2.642277</td>\n",
       "      <td>0</td>\n",
       "    </tr>\n",
       "    <tr>\n",
       "      <th>3</th>\n",
       "      <td>-0.824241</td>\n",
       "      <td>0.993265</td>\n",
       "      <td>0</td>\n",
       "    </tr>\n",
       "    <tr>\n",
       "      <th>4</th>\n",
       "      <td>-1.560548</td>\n",
       "      <td>1.356125</td>\n",
       "      <td>0</td>\n",
       "    </tr>\n",
       "    <tr>\n",
       "      <th>5</th>\n",
       "      <td>1.054094</td>\n",
       "      <td>-0.626004</td>\n",
       "      <td>1</td>\n",
       "    </tr>\n",
       "    <tr>\n",
       "      <th>6</th>\n",
       "      <td>-0.422423</td>\n",
       "      <td>-0.704388</td>\n",
       "      <td>0</td>\n",
       "    </tr>\n",
       "    <tr>\n",
       "      <th>7</th>\n",
       "      <td>0.882975</td>\n",
       "      <td>-0.342486</td>\n",
       "      <td>1</td>\n",
       "    </tr>\n",
       "    <tr>\n",
       "      <th>8</th>\n",
       "      <td>-0.433856</td>\n",
       "      <td>2.336120</td>\n",
       "      <td>0</td>\n",
       "    </tr>\n",
       "    <tr>\n",
       "      <th>9</th>\n",
       "      <td>-1.051806</td>\n",
       "      <td>3.065882</td>\n",
       "      <td>0</td>\n",
       "    </tr>\n",
       "  </tbody>\n",
       "</table>\n",
       "</div>"
      ],
      "text/plain": [
       "   feature1  feature2  target\n",
       "0 -0.441937 -0.345607       0\n",
       "1 -0.901832 -0.871650       0\n",
       "2 -0.526793  2.642277       0\n",
       "3 -0.824241  0.993265       0\n",
       "4 -1.560548  1.356125       0\n",
       "5  1.054094 -0.626004       1\n",
       "6 -0.422423 -0.704388       0\n",
       "7  0.882975 -0.342486       1\n",
       "8 -0.433856  2.336120       0\n",
       "9 -1.051806  3.065882       0"
      ]
     },
     "execution_count": 9,
     "metadata": {},
     "output_type": "execute_result"
    }
   ],
   "source": [
    "# Create a DataFrame\n",
    "l1 = []\n",
    "l2 = []\n",
    "for x1,x2 in X: #split the X into two features\n",
    "    l1.append(x1)\n",
    "    l2.append(x2)\n",
    "dict_data = {'feature1':l1,'feature2':l2,'target':y}\n",
    "df = pd.DataFrame(data=dict_data)\n",
    "df.head(10)"
   ]
  },
  {
   "cell_type": "code",
   "execution_count": 10,
   "id": "470b2490",
   "metadata": {
    "execution": {
     "iopub.execute_input": "2023-07-04T08:39:45.799931Z",
     "iopub.status.busy": "2023-07-04T08:39:45.799505Z",
     "iopub.status.idle": "2023-07-04T08:39:46.225750Z",
     "shell.execute_reply": "2023-07-04T08:39:46.224019Z"
    },
    "papermill": {
     "duration": 0.443018,
     "end_time": "2023-07-04T08:39:46.229055",
     "exception": false,
     "start_time": "2023-07-04T08:39:45.786037",
     "status": "completed"
    },
    "tags": []
   },
   "outputs": [
    {
     "data": {
      "image/png": "[encoded data removed]",
      "text/plain": [
       "<Figure size 640x480 with 1 Axes>"
      ]
     },
     "metadata": {},
     "output_type": "display_data"
    }
   ],
   "source": [
    "sns.scatterplot(data=df,x='feature1',y='feature2',hue='target')\n",
    "plt.show()"
   ]
  },
  {
   "cell_type": "markdown",
   "id": "ce92bc84",
   "metadata": {
    "papermill": {
     "duration": 0.014283,
     "end_time": "2023-07-04T08:39:46.259439",
     "exception": false,
     "start_time": "2023-07-04T08:39:46.245156",
     "status": "completed"
    },
    "tags": []
   },
   "source": [
    "Now there are two groups, now we will try to separate these by means of Line(Perceptron)"
   ]
  },
  {
   "cell_type": "code",
   "execution_count": 11,
   "id": "db05ce17",
   "metadata": {
    "execution": {
     "iopub.execute_input": "2023-07-04T08:39:46.293156Z",
     "iopub.status.busy": "2023-07-04T08:39:46.292162Z",
     "iopub.status.idle": "2023-07-04T08:39:46.300526Z",
     "shell.execute_reply": "2023-07-04T08:39:46.299219Z"
    },
    "papermill": {
     "duration": 0.030983,
     "end_time": "2023-07-04T08:39:46.305438",
     "exception": false,
     "start_time": "2023-07-04T08:39:46.274455",
     "status": "completed"
    },
    "tags": []
   },
   "outputs": [],
   "source": [
    "# Segregate the Dependent and Independent Feaatures\n",
    "X = df[['feature1','feature2']]\n",
    "y = df.target"
   ]
  },
  {
   "cell_type": "code",
   "execution_count": 12,
   "id": "f864eeaf",
   "metadata": {
    "execution": {
     "iopub.execute_input": "2023-07-04T08:39:46.341351Z",
     "iopub.status.busy": "2023-07-04T08:39:46.340880Z",
     "iopub.status.idle": "2023-07-04T08:39:46.637144Z",
     "shell.execute_reply": "2023-07-04T08:39:46.636160Z"
    },
    "papermill": {
     "duration": 0.32058,
     "end_time": "2023-07-04T08:39:46.639834",
     "exception": false,
     "start_time": "2023-07-04T08:39:46.319254",
     "status": "completed"
    },
    "tags": []
   },
   "outputs": [
    {
     "data": {
      "text/html": [
       "<style>#sk-container-id-1 {color: black;background-color: white;}#sk-container-id-1 pre{padding: 0;}#sk-container-id-1 div.sk-toggleable {background-color: white;}#sk-container-id-1 label.sk-toggleable__label {cursor: pointer;display: block;width: 100%;margin-bottom: 0;padding: 0.3em;box-sizing: border-box;text-align: center;}#sk-container-id-1 label.sk-toggleable__label-arrow:before {content: \"▸\";float: left;margin-right: 0.25em;color: #696969;}#sk-container-id-1 label.sk-toggleable__label-arrow:hover:before {color: black;}#sk-container-id-1 div.sk-estimator:hover label.sk-toggleable__label-arrow:before {color: black;}#sk-container-id-1 div.sk-toggleable__content {max-height: 0;max-width: 0;overflow: hidden;text-align: left;background-color: #f0f8ff;}#sk-container-id-1 div.sk-toggleable__content pre {margin: 0.2em;color: black;border-radius: 0.25em;background-color: #f0f8ff;}#sk-container-id-1 input.sk-toggleable__control:checked~div.sk-toggleable__content {max-height: 200px;max-width: 100%;overflow: auto;}#sk-container-id-1 input.sk-toggleable__control:checked~label.sk-toggleable__label-arrow:before {content: \"▾\";}#sk-container-id-1 div.sk-estimator input.sk-toggleable__control:checked~label.sk-toggleable__label {background-color: #d4ebff;}#sk-container-id-1 div.sk-label input.sk-toggleable__control:checked~label.sk-toggleable__label {background-color: #d4ebff;}#sk-container-id-1 input.sk-hidden--visually {border: 0;clip: rect(1px 1px 1px 1px);clip: rect(1px, 1px, 1px, 1px);height: 1px;margin: -1px;overflow: hidden;padding: 0;position: absolute;width: 1px;}#sk-container-id-1 div.sk-estimator {font-family: monospace;background-color: #f0f8ff;border: 1px dotted black;border-radius: 0.25em;box-sizing: border-box;margin-bottom: 0.5em;}#sk-container-id-1 div.sk-estimator:hover {background-color: #d4ebff;}#sk-container-id-1 div.sk-parallel-item::after {content: \"\";width: 100%;border-bottom: 1px solid gray;flex-grow: 1;}#sk-container-id-1 div.sk-label:hover label.sk-toggleable__label {background-color: #d4ebff;}#sk-container-id-1 div.sk-serial::before {content: \"\";position: absolute;border-left: 1px solid gray;box-sizing: border-box;top: 0;bottom: 0;left: 50%;z-index: 0;}#sk-container-id-1 div.sk-serial {display: flex;flex-direction: column;align-items: center;background-color: white;padding-right: 0.2em;padding-left: 0.2em;position: relative;}#sk-container-id-1 div.sk-item {position: relative;z-index: 1;}#sk-container-id-1 div.sk-parallel {display: flex;align-items: stretch;justify-content: center;background-color: white;position: relative;}#sk-container-id-1 div.sk-item::before, #sk-container-id-1 div.sk-parallel-item::before {content: \"\";position: absolute;border-left: 1px solid gray;box-sizing: border-box;top: 0;bottom: 0;left: 50%;z-index: -1;}#sk-container-id-1 div.sk-parallel-item {display: flex;flex-direction: column;z-index: 1;position: relative;background-color: white;}#sk-container-id-1 div.sk-parallel-item:first-child::after {align-self: flex-end;width: 50%;}#sk-container-id-1 div.sk-parallel-item:last-child::after {align-self: flex-start;width: 50%;}#sk-container-id-1 div.sk-parallel-item:only-child::after {width: 0;}#sk-container-id-1 div.sk-dashed-wrapped {border: 1px dashed gray;margin: 0 0.4em 0.5em 0.4em;box-sizing: border-box;padding-bottom: 0.4em;background-color: white;}#sk-container-id-1 div.sk-label label {font-family: monospace;font-weight: bold;display: inline-block;line-height: 1.2em;}#sk-container-id-1 div.sk-label-container {text-align: center;}#sk-container-id-1 div.sk-container {/* jupyter's `normalize.less` sets `[hidden] { display: none; }` but bootstrap.min.css set `[hidden] { display: none !important; }` so we also need the `!important` here to be able to override the default hidden behavior on the sphinx rendered scikit-learn.org. See: https://github.com/scikit-learn/scikit-learn/issues/21755 */display: inline-block !important;position: relative;}#sk-container-id-1 div.sk-text-repr-fallback {display: none;}</style><div id=\"sk-container-id-1\" class=\"sk-top-container\"><div class=\"sk-text-repr-fallback\"><pre>Perceptron()</pre><b>In a Jupyter environment, please rerun this cell to show the HTML representation or trust the notebook. <br />On GitHub, the HTML representation is unable to render, please try loading this page with nbviewer.org.</b></div><div class=\"sk-container\" hidden><div class=\"sk-item\"><div class=\"sk-estimator sk-toggleable\"><input class=\"sk-toggleable__control sk-hidden--visually\" id=\"sk-estimator-id-1\" type=\"checkbox\" checked><label for=\"sk-estimator-id-1\" class=\"sk-toggleable__label sk-toggleable__label-arrow\">Perceptron</label><div class=\"sk-toggleable__content\"><pre>Perceptron()</pre></div></div></div></div></div>"
      ],
      "text/plain": [
       "Perceptron()"
      ]
     },
     "execution_count": 12,
     "metadata": {},
     "output_type": "execute_result"
    }
   ],
   "source": [
    "from sklearn.linear_model import Perceptron\n",
    "\n",
    "perc = Perceptron()\n",
    "perc.fit(X,y)"
   ]
  },
  {
   "cell_type": "markdown",
   "id": "75f10d37",
   "metadata": {
    "papermill": {
     "duration": 0.013189,
     "end_time": "2023-07-04T08:39:46.666141",
     "exception": false,
     "start_time": "2023-07-04T08:39:46.652952",
     "status": "completed"
    },
    "tags": []
   },
   "source": [
    "#### Weights and Biases"
   ]
  },
  {
   "cell_type": "code",
   "execution_count": 13,
   "id": "5d60fbbf",
   "metadata": {
    "execution": {
     "iopub.execute_input": "2023-07-04T08:39:46.693905Z",
     "iopub.status.busy": "2023-07-04T08:39:46.693506Z",
     "iopub.status.idle": "2023-07-04T08:39:46.701078Z",
     "shell.execute_reply": "2023-07-04T08:39:46.699866Z"
    },
    "papermill": {
     "duration": 0.024539,
     "end_time": "2023-07-04T08:39:46.703706",
     "exception": false,
     "start_time": "2023-07-04T08:39:46.679167",
     "status": "completed"
    },
    "tags": []
   },
   "outputs": [
    {
     "data": {
      "text/plain": [
       "array([[ 4.3624133 , -0.56847366]])"
      ]
     },
     "execution_count": 13,
     "metadata": {},
     "output_type": "execute_result"
    }
   ],
   "source": [
    "# Finding the weights\n",
    "perc.coef_"
   ]
  },
  {
   "cell_type": "code",
   "execution_count": 14,
   "id": "81284717",
   "metadata": {
    "execution": {
     "iopub.execute_input": "2023-07-04T08:39:46.732435Z",
     "iopub.status.busy": "2023-07-04T08:39:46.732008Z",
     "iopub.status.idle": "2023-07-04T08:39:46.738839Z",
     "shell.execute_reply": "2023-07-04T08:39:46.737912Z"
    },
    "papermill": {
     "duration": 0.024435,
     "end_time": "2023-07-04T08:39:46.741376",
     "exception": false,
     "start_time": "2023-07-04T08:39:46.716941",
     "status": "completed"
    },
    "tags": []
   },
   "outputs": [
    {
     "data": {
      "text/plain": [
       "array([-1.])"
      ]
     },
     "execution_count": 14,
     "metadata": {},
     "output_type": "execute_result"
    }
   ],
   "source": [
    "# Finding the Bias\n",
    "perc.intercept_"
   ]
  },
  {
   "cell_type": "markdown",
   "id": "b438bc80",
   "metadata": {
    "papermill": {
     "duration": 0.013035,
     "end_time": "2023-07-04T08:39:46.767643",
     "exception": false,
     "start_time": "2023-07-04T08:39:46.754608",
     "status": "completed"
    },
    "tags": []
   },
   "source": [
    "### Plot the graph with Perceptron"
   ]
  },
  {
   "cell_type": "code",
   "execution_count": 15,
   "id": "450ce41d",
   "metadata": {
    "execution": {
     "iopub.execute_input": "2023-07-04T08:39:46.796564Z",
     "iopub.status.busy": "2023-07-04T08:39:46.796117Z",
     "iopub.status.idle": "2023-07-04T08:39:47.274919Z",
     "shell.execute_reply": "2023-07-04T08:39:47.273644Z"
    },
    "papermill": {
     "duration": 0.496688,
     "end_time": "2023-07-04T08:39:47.277899",
     "exception": false,
     "start_time": "2023-07-04T08:39:46.781211",
     "status": "completed"
    },
    "tags": []
   },
   "outputs": [
    {
     "name": "stderr",
     "output_type": "stream",
     "text": [
      "/opt/conda/lib/python3.10/site-packages/sklearn/base.py:439: UserWarning: X does not have valid feature names, but Perceptron was fitted with feature names\n",
      "  warnings.warn(\n"
     ]
    },
    {
     "data": {
      "image/png": "[encoded data removed]",
      "text/plain": [
       "<Figure size 640x480 with 1 Axes>"
      ]
     },
     "metadata": {},
     "output_type": "display_data"
    }
   ],
   "source": [
    "\n",
    "\n",
    "from mlxtend.plotting import  plot_decision_regions as pdr\n",
    "\n",
    "pdr(X.values,y.values,clf=perc,legend=1)\n",
    "plt.show()"
   ]
  },
  {
   "cell_type": "code",
   "execution_count": 16,
   "id": "28cdec7e",
   "metadata": {
    "execution": {
     "iopub.execute_input": "2023-07-04T08:39:47.308366Z",
     "iopub.status.busy": "2023-07-04T08:39:47.307920Z",
     "iopub.status.idle": "2023-07-04T08:39:47.313663Z",
     "shell.execute_reply": "2023-07-04T08:39:47.312478Z"
    },
    "papermill": {
     "duration": 0.023752,
     "end_time": "2023-07-04T08:39:47.316211",
     "exception": false,
     "start_time": "2023-07-04T08:39:47.292459",
     "status": "completed"
    },
    "tags": []
   },
   "outputs": [],
   "source": [
    "import matplotlib.pyplot as plt\n",
    "\n",
    "from sklearn.datasets import make_classification"
   ]
  },
  {
   "cell_type": "markdown",
   "id": "777cd8f7",
   "metadata": {
    "papermill": {
     "duration": 0.013666,
     "end_time": "2023-07-04T08:39:47.343906",
     "exception": false,
     "start_time": "2023-07-04T08:39:47.330240",
     "status": "completed"
    },
    "tags": []
   },
   "source": [
    "### Custom made Dataset"
   ]
  },
  {
   "cell_type": "code",
   "execution_count": 17,
   "id": "64862c97",
   "metadata": {
    "execution": {
     "iopub.execute_input": "2023-07-04T08:39:47.373646Z",
     "iopub.status.busy": "2023-07-04T08:39:47.373181Z",
     "iopub.status.idle": "2023-07-04T08:39:47.381043Z",
     "shell.execute_reply": "2023-07-04T08:39:47.380058Z"
    },
    "papermill": {
     "duration": 0.025695,
     "end_time": "2023-07-04T08:39:47.383544",
     "exception": false,
     "start_time": "2023-07-04T08:39:47.357849",
     "status": "completed"
    },
    "tags": []
   },
   "outputs": [],
   "source": [
    "X,y = make_classification(n_samples=100,\n",
    "                          n_features=2,\n",
    "                          n_informative=1,\n",
    "                          n_classes=2,\n",
    "                          n_redundant=0,\n",
    "                          n_clusters_per_class=1,\n",
    "                          random_state=41,\n",
    "                         hypercube= False,\n",
    "                         class_sep=10)"
   ]
  },
  {
   "cell_type": "markdown",
   "id": "80ed9f9f",
   "metadata": {
    "papermill": {
     "duration": 0.014201,
     "end_time": "2023-07-04T08:39:47.412552",
     "exception": false,
     "start_time": "2023-07-04T08:39:47.398351",
     "status": "completed"
    },
    "tags": []
   },
   "source": [
    "#### Plot the Dataset"
   ]
  },
  {
   "cell_type": "code",
   "execution_count": 18,
   "id": "4c5358e0",
   "metadata": {
    "execution": {
     "iopub.execute_input": "2023-07-04T08:39:47.443012Z",
     "iopub.status.busy": "2023-07-04T08:39:47.441789Z",
     "iopub.status.idle": "2023-07-04T08:39:47.722995Z",
     "shell.execute_reply": "2023-07-04T08:39:47.721807Z"
    },
    "papermill": {
     "duration": 0.299304,
     "end_time": "2023-07-04T08:39:47.725658",
     "exception": false,
     "start_time": "2023-07-04T08:39:47.426354",
     "status": "completed"
    },
    "tags": []
   },
   "outputs": [
    {
     "data": {
      "image/png": "[encoded data removed]",
      "text/plain": [
       "<Figure size 1000x600 with 1 Axes>"
      ]
     },
     "metadata": {},
     "output_type": "display_data"
    }
   ],
   "source": [
    "plt.figure(figsize=(10,6))\n",
    "plt.scatter(X[:,0],X[:,1],c=y,s=100)\n",
    "plt.xlabel('X-Axis')\n",
    "plt.ylabel('Y-Axis')\n",
    "plt.show()"
   ]
  },
  {
   "cell_type": "code",
   "execution_count": 19,
   "id": "23c18c03",
   "metadata": {
    "execution": {
     "iopub.execute_input": "2023-07-04T08:39:47.756828Z",
     "iopub.status.busy": "2023-07-04T08:39:47.756069Z",
     "iopub.status.idle": "2023-07-04T08:39:47.763574Z",
     "shell.execute_reply": "2023-07-04T08:39:47.762277Z"
    },
    "papermill": {
     "duration": 0.02603,
     "end_time": "2023-07-04T08:39:47.766192",
     "exception": false,
     "start_time": "2023-07-04T08:39:47.740162",
     "status": "completed"
    },
    "tags": []
   },
   "outputs": [
    {
     "data": {
      "text/plain": [
       "(100, 2)"
      ]
     },
     "execution_count": 19,
     "metadata": {},
     "output_type": "execute_result"
    }
   ],
   "source": [
    "X.shape"
   ]
  },
  {
   "cell_type": "code",
   "execution_count": 20,
   "id": "1d79862b",
   "metadata": {
    "execution": {
     "iopub.execute_input": "2023-07-04T08:39:47.798557Z",
     "iopub.status.busy": "2023-07-04T08:39:47.798084Z",
     "iopub.status.idle": "2023-07-04T08:39:47.804864Z",
     "shell.execute_reply": "2023-07-04T08:39:47.803515Z"
    },
    "papermill": {
     "duration": 0.02589,
     "end_time": "2023-07-04T08:39:47.807110",
     "exception": false,
     "start_time": "2023-07-04T08:39:47.781220",
     "status": "completed"
    },
    "tags": []
   },
   "outputs": [
    {
     "data": {
      "text/plain": [
       "(100,)"
      ]
     },
     "execution_count": 20,
     "metadata": {},
     "output_type": "execute_result"
    }
   ],
   "source": [
    "y.shape"
   ]
  },
  {
   "cell_type": "code",
   "execution_count": 21,
   "id": "3758fcd1",
   "metadata": {
    "execution": {
     "iopub.execute_input": "2023-07-04T08:39:47.839130Z",
     "iopub.status.busy": "2023-07-04T08:39:47.838736Z",
     "iopub.status.idle": "2023-07-04T08:39:47.846774Z",
     "shell.execute_reply": "2023-07-04T08:39:47.845511Z"
    },
    "papermill": {
     "duration": 0.027109,
     "end_time": "2023-07-04T08:39:47.849081",
     "exception": false,
     "start_time": "2023-07-04T08:39:47.821972",
     "status": "completed"
    },
    "tags": []
   },
   "outputs": [],
   "source": [
    "# Create a Perceptron Function\n",
    "\n",
    "def perceptron(X,y):\n",
    "    X = np.insert(X,0,1,axis=1)\n",
    "    weights = np.ones(X.shape[1])\n",
    "    lr = 0.1\n",
    "    \n",
    "    for i in range(1000):\n",
    "        j = np.random.randint(0,100)\n",
    "        y_hat = step(np.dot(X[j],weights))  # Dot product of datapoints and weights\n",
    "        weights = weights + lr * (y[j] - y_hat) * X[j]\n",
    "        # weights + learning rate * (error) * datapoint\n",
    "        \n",
    "    return weights[0], weights[1:]\n",
    "\n",
    "def step(z):\n",
    "    return 1 if z>0 else 0"
   ]
  },
  {
   "cell_type": "code",
   "execution_count": 22,
   "id": "30cf3ec1",
   "metadata": {
    "execution": {
     "iopub.execute_input": "2023-07-04T08:39:47.883557Z",
     "iopub.status.busy": "2023-07-04T08:39:47.882911Z",
     "iopub.status.idle": "2023-07-04T08:39:47.886849Z",
     "shell.execute_reply": "2023-07-04T08:39:47.885902Z"
    },
    "papermill": {
     "duration": 0.023446,
     "end_time": "2023-07-04T08:39:47.889083",
     "exception": false,
     "start_time": "2023-07-04T08:39:47.865637",
     "status": "completed"
    },
    "tags": []
   },
   "outputs": [],
   "source": [
    "#np.random.randint(0,100)"
   ]
  },
  {
   "cell_type": "code",
   "execution_count": 23,
   "id": "d17894ac",
   "metadata": {
    "execution": {
     "iopub.execute_input": "2023-07-04T08:39:47.921545Z",
     "iopub.status.busy": "2023-07-04T08:39:47.921107Z",
     "iopub.status.idle": "2023-07-04T08:39:47.925683Z",
     "shell.execute_reply": "2023-07-04T08:39:47.924397Z"
    },
    "papermill": {
     "duration": 0.023717,
     "end_time": "2023-07-04T08:39:47.928075",
     "exception": false,
     "start_time": "2023-07-04T08:39:47.904358",
     "status": "completed"
    },
    "tags": []
   },
   "outputs": [],
   "source": [
    "#np.insert(X,0,1,axis=1)"
   ]
  },
  {
   "cell_type": "code",
   "execution_count": 24,
   "id": "926eb6d4",
   "metadata": {
    "execution": {
     "iopub.execute_input": "2023-07-04T08:39:47.960612Z",
     "iopub.status.busy": "2023-07-04T08:39:47.960190Z",
     "iopub.status.idle": "2023-07-04T08:39:47.964920Z",
     "shell.execute_reply": "2023-07-04T08:39:47.963585Z"
    },
    "papermill": {
     "duration": 0.024565,
     "end_time": "2023-07-04T08:39:47.967542",
     "exception": false,
     "start_time": "2023-07-04T08:39:47.942977",
     "status": "completed"
    },
    "tags": []
   },
   "outputs": [],
   "source": [
    "#np.ones(X.shape[1])"
   ]
  },
  {
   "cell_type": "code",
   "execution_count": 25,
   "id": "bf66370b",
   "metadata": {
    "execution": {
     "iopub.execute_input": "2023-07-04T08:39:48.000735Z",
     "iopub.status.busy": "2023-07-04T08:39:47.999973Z",
     "iopub.status.idle": "2023-07-04T08:39:48.025302Z",
     "shell.execute_reply": "2023-07-04T08:39:48.024360Z"
    },
    "papermill": {
     "duration": 0.044805,
     "end_time": "2023-07-04T08:39:48.027690",
     "exception": false,
     "start_time": "2023-07-04T08:39:47.982885",
     "status": "completed"
    },
    "tags": []
   },
   "outputs": [
    {
     "name": "stdout",
     "output_type": "stream",
     "text": [
      "Bias [1.30155313 0.1237517 ]\n",
      "Weights 0.9\n"
     ]
    }
   ],
   "source": [
    "intercept_, coef_ = perceptron(X,y)\n",
    "print('Bias',coef_)\n",
    "print('Weights',intercept_)"
   ]
  },
  {
   "cell_type": "code",
   "execution_count": 26,
   "id": "9feca42d",
   "metadata": {
    "execution": {
     "iopub.execute_input": "2023-07-04T08:39:48.060352Z",
     "iopub.status.busy": "2023-07-04T08:39:48.059513Z",
     "iopub.status.idle": "2023-07-04T08:39:48.066742Z",
     "shell.execute_reply": "2023-07-04T08:39:48.065391Z"
    },
    "papermill": {
     "duration": 0.026663,
     "end_time": "2023-07-04T08:39:48.069285",
     "exception": false,
     "start_time": "2023-07-04T08:39:48.042622",
     "status": "completed"
    },
    "tags": []
   },
   "outputs": [
    {
     "name": "stdout",
     "output_type": "stream",
     "text": [
      "-10.517456506376208\n",
      "-7.272627305586807\n"
     ]
    }
   ],
   "source": [
    "# finding m and b in mx+b\n",
    "m = -(coef_[0]/coef_[1]) \n",
    "b = -(intercept_ / coef_[1])\n",
    "print(m)\n",
    "print(b)"
   ]
  },
  {
   "cell_type": "code",
   "execution_count": 27,
   "id": "acdc950b",
   "metadata": {
    "execution": {
     "iopub.execute_input": "2023-07-04T08:39:48.102225Z",
     "iopub.status.busy": "2023-07-04T08:39:48.101382Z",
     "iopub.status.idle": "2023-07-04T08:39:48.411870Z",
     "shell.execute_reply": "2023-07-04T08:39:48.410714Z"
    },
    "papermill": {
     "duration": 0.329973,
     "end_time": "2023-07-04T08:39:48.414439",
     "exception": false,
     "start_time": "2023-07-04T08:39:48.084466",
     "status": "completed"
    },
    "tags": []
   },
   "outputs": [
    {
     "data": {
      "image/png": "[encoded data removed]",
      "text/plain": [
       "<Figure size 1000x600 with 1 Axes>"
      ]
     },
     "metadata": {},
     "output_type": "display_data"
    }
   ],
   "source": [
    "x_input = np.linspace(-3,3,100)\n",
    "y_input = m * x_input + b\n",
    "\n",
    "plt.figure(figsize=(10,6))\n",
    "plt.plot(x_input,y_input,color='b',linewidth =1)\n",
    "plt.scatter(X[:,0],X[:,1],c=y,s=100)\n",
    "plt.xlabel('X-Axis')\n",
    "plt.ylabel('Y-Axis')\n",
    "\n",
    "plt.show()"
   ]
  },
  {
   "cell_type": "code",
   "execution_count": 28,
   "id": "021e11e5",
   "metadata": {
    "execution": {
     "iopub.execute_input": "2023-07-04T08:39:48.449962Z",
     "iopub.status.busy": "2023-07-04T08:39:48.448852Z",
     "iopub.status.idle": "2023-07-04T08:39:48.464634Z",
     "shell.execute_reply": "2023-07-04T08:39:48.463247Z"
    },
    "papermill": {
     "duration": 0.036731,
     "end_time": "2023-07-04T08:39:48.467439",
     "exception": false,
     "start_time": "2023-07-04T08:39:48.430708",
     "status": "completed"
    },
    "tags": []
   },
   "outputs": [],
   "source": [
    "def perceptron(X,y):\n",
    "    m = []\n",
    "    b = []\n",
    "    \n",
    "    X = np.insert(X,0,1,axis=1)\n",
    "    weights = np.ones(X.shape[1])\n",
    "    lr = 0.1\n",
    "    \n",
    "    for i in range(200):  # the 200 is epoch\n",
    "        j = np.random.randint(0,100)\n",
    "        y_hat = step(np.dot(X[j],weights))  # Dot product of datapoints and weights\n",
    "        weights = weights + lr * (y[j] - y_hat) * X[j]\n",
    "        \n",
    "        m.append(-(weights[1]/weights[2]))\n",
    "        b.append(-(weights[0]/weights[2]))\n",
    "    return m,b\n",
    "\n",
    "m,b = perceptron(X,y)"
   ]
  },
  {
   "cell_type": "code",
   "execution_count": 29,
   "id": "9392dd18",
   "metadata": {
    "execution": {
     "iopub.execute_input": "2023-07-04T08:39:48.501835Z",
     "iopub.status.busy": "2023-07-04T08:39:48.501450Z",
     "iopub.status.idle": "2023-07-04T08:39:48.780796Z",
     "shell.execute_reply": "2023-07-04T08:39:48.779551Z"
    },
    "papermill": {
     "duration": 0.299987,
     "end_time": "2023-07-04T08:39:48.783439",
     "exception": false,
     "start_time": "2023-07-04T08:39:48.483452",
     "status": "completed"
    },
    "tags": []
   },
   "outputs": [
    {
     "data": {
      "image/png": "[encoded data removed]",
      "text/plain": [
       "<Figure size 1000x500 with 1 Axes>"
      ]
     },
     "metadata": {},
     "output_type": "display_data"
    }
   ],
   "source": [
    "fig,ax = plt.subplots(figsize = (10,5))\n",
    "\n",
    "x_i = np.arange(-3,3,0.1)\n",
    "y_i = x_i * m[0] + b[0]\n",
    "\n",
    "ax.scatter(X[:,0],X[:,1],c=y,s=50)\n",
    "line = ax.plot(x_i,x_i * m[0] + b[0],'b',linewidth=2)\n",
    "plt.ylim(-3,3)\n",
    "plt.show()"
   ]
  },
  {
   "cell_type": "code",
   "execution_count": null,
   "id": "2078365e",
   "metadata": {
    "papermill": {
     "duration": 0.016466,
     "end_time": "2023-07-04T08:39:48.816587",
     "exception": false,
     "start_time": "2023-07-04T08:39:48.800121",
     "status": "completed"
    },
    "tags": []
   },
   "outputs": [],
   "source": []
  },
  {
   "cell_type": "code",
   "execution_count": null,
   "id": "b1175c20",
   "metadata": {
    "papermill": {
     "duration": 0.016392,
     "end_time": "2023-07-04T08:39:48.849635",
     "exception": false,
     "start_time": "2023-07-04T08:39:48.833243",
     "status": "completed"
    },
    "tags": []
   },
   "outputs": [],
   "source": []
  }
 ],
 "metadata": {
  "kernelspec": {
   "display_name": "Python 3",
   "language": "python",
   "name": "python3"
  },
  "language_info": {
   "codemirror_mode": {
    "name": "ipython",
    "version": 3
   },
   "file_extension": ".py",
   "mimetype": "text/x-python",
   "name": "python",
   "nbconvert_exporter": "python",
   "pygments_lexer": "ipython3",
   "version": "3.10.10"
  },
  "papermill": {
   "default_parameters": {},
   "duration": 21.679448,
   "end_time": "2023-07-04T08:39:49.890873",
   "environment_variables": {},
   "exception": null,
   "input_path": "__notebook__.ipynb",
   "output_path": "__notebook__.ipynb",
   "parameters": {},
   "start_time": "2023-07-04T08:39:28.211425",
   "version": "2.4.0"
  }
 },
 "nbformat": 4,
 "nbformat_minor": 5
}
