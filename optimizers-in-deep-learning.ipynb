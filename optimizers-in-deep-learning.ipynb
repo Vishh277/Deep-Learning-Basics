{
 "cells": [
  {
   "cell_type": "markdown",
   "id": "fb8c364c",
   "metadata": {
    "papermill": {
     "duration": 0.015102,
     "end_time": "2023-06-21T03:19:21.055764",
     "exception": false,
     "start_time": "2023-06-21T03:19:21.040662",
     "status": "completed"
    },
    "tags": []
   },
   "source": [
    "# **Optimizers**"
   ]
  },
  {
   "cell_type": "markdown",
   "id": "692dc4c5",
   "metadata": {
    "papermill": {
     "duration": 0.012155,
     "end_time": "2023-06-21T03:19:21.080746",
     "exception": false,
     "start_time": "2023-06-21T03:19:21.068591",
     "status": "completed"
    },
    "tags": []
   },
   "source": [
    "- Optimizers are algorithms or methods used to change the attributes of your neural network \n",
    "  - weights\n",
    "  - bias\n",
    "- In order to reduce the losses.\n",
    "\n",
    "- In this noteboo we perform different Optimizers on MNIST Dataset"
   ]
  },
  {
   "cell_type": "markdown",
   "id": "25c4002e",
   "metadata": {
    "papermill": {
     "duration": 0.012351,
     "end_time": "2023-06-21T03:19:21.105603",
     "exception": false,
     "start_time": "2023-06-21T03:19:21.093252",
     "status": "completed"
    },
    "tags": []
   },
   "source": [
    "# Implementing all Optimizers"
   ]
  },
  {
   "cell_type": "code",
   "execution_count": 1,
   "id": "e11b3e53",
   "metadata": {
    "execution": {
     "iopub.execute_input": "2023-06-21T03:19:21.132749Z",
     "iopub.status.busy": "2023-06-21T03:19:21.132163Z",
     "iopub.status.idle": "2023-06-21T03:19:31.014939Z",
     "shell.execute_reply": "2023-06-21T03:19:31.013500Z"
    },
    "papermill": {
     "duration": 9.89998,
     "end_time": "2023-06-21T03:19:31.018090",
     "exception": false,
     "start_time": "2023-06-21T03:19:21.118110",
     "status": "completed"
    },
    "tags": []
   },
   "outputs": [
    {
     "name": "stderr",
     "output_type": "stream",
     "text": [
      "/opt/conda/lib/python3.10/site-packages/tensorflow_io/python/ops/__init__.py:98: UserWarning: unable to load libtensorflow_io_plugins.so: unable to open file: libtensorflow_io_plugins.so, from paths: ['/opt/conda/lib/python3.10/site-packages/tensorflow_io/python/ops/libtensorflow_io_plugins.so']\n",
      "caused by: ['/opt/conda/lib/python3.10/site-packages/tensorflow_io/python/ops/libtensorflow_io_plugins.so: undefined symbol: _ZN3tsl6StatusC1EN10tensorflow5error4CodeESt17basic_string_viewIcSt11char_traitsIcEENS_14SourceLocationE']\n",
      "  warnings.warn(f\"unable to load libtensorflow_io_plugins.so: {e}\")\n",
      "/opt/conda/lib/python3.10/site-packages/tensorflow_io/python/ops/__init__.py:104: UserWarning: file system plugins are not loaded: unable to open file: libtensorflow_io.so, from paths: ['/opt/conda/lib/python3.10/site-packages/tensorflow_io/python/ops/libtensorflow_io.so']\n",
      "caused by: ['/opt/conda/lib/python3.10/site-packages/tensorflow_io/python/ops/libtensorflow_io.so: undefined symbol: _ZTVN10tensorflow13GcsFileSystemE']\n",
      "  warnings.warn(f\"file system plugins are not loaded: {e}\")\n"
     ]
    }
   ],
   "source": [
    "import numpy as np\n",
    "import pandas as pd\n",
    "import matplotlib.pyplot as plt\n",
    "\n",
    "from keras.utils import np_utils\n",
    "from keras.datasets import mnist\n",
    "from keras.initializers import RandomNormal"
   ]
  },
  {
   "cell_type": "markdown",
   "id": "712d8b13",
   "metadata": {
    "papermill": {
     "duration": 0.012433,
     "end_time": "2023-06-21T03:19:31.043612",
     "exception": false,
     "start_time": "2023-06-21T03:19:31.031179",
     "status": "completed"
    },
    "tags": []
   },
   "source": [
    "## Importing the Datasets"
   ]
  },
  {
   "cell_type": "code",
   "execution_count": 2,
   "id": "2413710a",
   "metadata": {
    "execution": {
     "iopub.execute_input": "2023-06-21T03:19:31.071948Z",
     "iopub.status.busy": "2023-06-21T03:19:31.071095Z",
     "iopub.status.idle": "2023-06-21T03:19:31.543229Z",
     "shell.execute_reply": "2023-06-21T03:19:31.542041Z"
    },
    "papermill": {
     "duration": 0.492027,
     "end_time": "2023-06-21T03:19:31.548472",
     "exception": false,
     "start_time": "2023-06-21T03:19:31.056445",
     "status": "completed"
    },
    "tags": []
   },
   "outputs": [
    {
     "name": "stdout",
     "output_type": "stream",
     "text": [
      "Downloading data from https://storage.googleapis.com/tensorflow/tf-keras-datasets/mnist.npz\n",
      "11490434/11490434 [==============================] - 0s 0us/step\n"
     ]
    },
    {
     "data": {
      "text/plain": [
       "((60000, 28, 28), (60000,), (10000, 28, 28), (10000,))"
      ]
     },
     "execution_count": 2,
     "metadata": {},
     "output_type": "execute_result"
    }
   ],
   "source": [
    "(x_train, y_train), (x_test, y_test) = mnist.load_data()\n",
    "x_train.shape, y_train.shape,x_test.shape, y_test.shape"
   ]
  },
  {
   "cell_type": "code",
   "execution_count": 3,
   "id": "27e6b7fd",
   "metadata": {
    "execution": {
     "iopub.execute_input": "2023-06-21T03:19:31.577884Z",
     "iopub.status.busy": "2023-06-21T03:19:31.577402Z",
     "iopub.status.idle": "2023-06-21T03:19:31.585302Z",
     "shell.execute_reply": "2023-06-21T03:19:31.583948Z"
    },
    "papermill": {
     "duration": 0.025491,
     "end_time": "2023-06-21T03:19:31.588001",
     "exception": false,
     "start_time": "2023-06-21T03:19:31.562510",
     "status": "completed"
    },
    "tags": []
   },
   "outputs": [
    {
     "data": {
      "text/plain": [
       "(60000, 28, 28)"
      ]
     },
     "execution_count": 3,
     "metadata": {},
     "output_type": "execute_result"
    }
   ],
   "source": [
    "x_train.shape"
   ]
  },
  {
   "cell_type": "code",
   "execution_count": 4,
   "id": "da4fc697",
   "metadata": {
    "execution": {
     "iopub.execute_input": "2023-06-21T03:19:31.617385Z",
     "iopub.status.busy": "2023-06-21T03:19:31.616927Z",
     "iopub.status.idle": "2023-06-21T03:19:31.625023Z",
     "shell.execute_reply": "2023-06-21T03:19:31.623449Z"
    },
    "papermill": {
     "duration": 0.02603,
     "end_time": "2023-06-21T03:19:31.627713",
     "exception": false,
     "start_time": "2023-06-21T03:19:31.601683",
     "status": "completed"
    },
    "tags": []
   },
   "outputs": [
    {
     "data": {
      "text/plain": [
       "(10000, 28, 28)"
      ]
     },
     "execution_count": 4,
     "metadata": {},
     "output_type": "execute_result"
    }
   ],
   "source": [
    "x_test.shape"
   ]
  },
  {
   "cell_type": "markdown",
   "id": "1e06ed5c",
   "metadata": {
    "papermill": {
     "duration": 0.014701,
     "end_time": "2023-06-21T03:19:31.656858",
     "exception": false,
     "start_time": "2023-06-21T03:19:31.642157",
     "status": "completed"
    },
    "tags": []
   },
   "source": [
    "### Flattening - 3D to 2D"
   ]
  },
  {
   "cell_type": "code",
   "execution_count": 5,
   "id": "01944549",
   "metadata": {
    "execution": {
     "iopub.execute_input": "2023-06-21T03:19:31.686760Z",
     "iopub.status.busy": "2023-06-21T03:19:31.686301Z",
     "iopub.status.idle": "2023-06-21T03:19:31.694020Z",
     "shell.execute_reply": "2023-06-21T03:19:31.692642Z"
    },
    "papermill": {
     "duration": 0.026213,
     "end_time": "2023-06-21T03:19:31.696930",
     "exception": false,
     "start_time": "2023-06-21T03:19:31.670717",
     "status": "completed"
    },
    "tags": []
   },
   "outputs": [
    {
     "name": "stdout",
     "output_type": "stream",
     "text": [
      "(60000, 784) (10000, 784)\n"
     ]
    }
   ],
   "source": [
    "x_train = x_train.reshape(x_train.shape[0],x_train.shape[1] * x_train.shape[2])\n",
    "x_test = x_test.reshape(x_test.shape[0],x_test.shape[1] * x_test.shape[2])\n",
    "\n",
    "print(x_train.shape,x_test.shape)"
   ]
  },
  {
   "cell_type": "markdown",
   "id": "a32db60d",
   "metadata": {
    "papermill": {
     "duration": 0.013182,
     "end_time": "2023-06-21T03:19:31.724122",
     "exception": false,
     "start_time": "2023-06-21T03:19:31.710940",
     "status": "completed"
    },
    "tags": []
   },
   "source": [
    "### Scaling "
   ]
  },
  {
   "cell_type": "code",
   "execution_count": 6,
   "id": "c53660aa",
   "metadata": {
    "execution": {
     "iopub.execute_input": "2023-06-21T03:19:31.753644Z",
     "iopub.status.busy": "2023-06-21T03:19:31.753191Z",
     "iopub.status.idle": "2023-06-21T03:19:31.759838Z",
     "shell.execute_reply": "2023-06-21T03:19:31.758561Z"
    },
    "papermill": {
     "duration": 0.024824,
     "end_time": "2023-06-21T03:19:31.762646",
     "exception": false,
     "start_time": "2023-06-21T03:19:31.737822",
     "status": "completed"
    },
    "tags": []
   },
   "outputs": [
    {
     "name": "stdout",
     "output_type": "stream",
     "text": [
      "0 255\n"
     ]
    }
   ],
   "source": [
    "# Lets take the First Image and see the Range(min,max)\n",
    "#print(x_train[0])\n",
    "print(x_train[0].min(),x_train[0].max())"
   ]
  },
  {
   "cell_type": "code",
   "execution_count": 7,
   "id": "1730dd01",
   "metadata": {
    "execution": {
     "iopub.execute_input": "2023-06-21T03:19:31.792521Z",
     "iopub.status.busy": "2023-06-21T03:19:31.792046Z",
     "iopub.status.idle": "2023-06-21T03:19:31.994679Z",
     "shell.execute_reply": "2023-06-21T03:19:31.993663Z"
    },
    "papermill": {
     "duration": 0.22041,
     "end_time": "2023-06-21T03:19:31.997087",
     "exception": false,
     "start_time": "2023-06-21T03:19:31.776677",
     "status": "completed"
    },
    "tags": []
   },
   "outputs": [
    {
     "name": "stdout",
     "output_type": "stream",
     "text": [
      "0.0 1.0\n"
     ]
    }
   ],
   "source": [
    "x_train = x_train / 255\n",
    "x_test  = x_test / 255\n",
    "\n",
    "print(x_train[0].min(),x_train[0].max())"
   ]
  },
  {
   "cell_type": "code",
   "execution_count": 8,
   "id": "5634f9a9",
   "metadata": {
    "execution": {
     "iopub.execute_input": "2023-06-21T03:19:32.028290Z",
     "iopub.status.busy": "2023-06-21T03:19:32.027807Z",
     "iopub.status.idle": "2023-06-21T03:19:32.035727Z",
     "shell.execute_reply": "2023-06-21T03:19:32.034516Z"
    },
    "papermill": {
     "duration": 0.025991,
     "end_time": "2023-06-21T03:19:32.038362",
     "exception": false,
     "start_time": "2023-06-21T03:19:32.012371",
     "status": "completed"
    },
    "tags": []
   },
   "outputs": [
    {
     "data": {
      "text/plain": [
       "5"
      ]
     },
     "execution_count": 8,
     "metadata": {},
     "output_type": "execute_result"
    }
   ],
   "source": [
    "# Target Classes - Which  number it is\n",
    "y_train[0]"
   ]
  },
  {
   "cell_type": "markdown",
   "id": "3a2f4b8f",
   "metadata": {
    "papermill": {
     "duration": 0.013485,
     "end_time": "2023-06-21T03:19:32.066034",
     "exception": false,
     "start_time": "2023-06-21T03:19:32.052549",
     "status": "completed"
    },
    "tags": []
   },
   "source": [
    "#### Convert Class level to Vector"
   ]
  },
  {
   "cell_type": "code",
   "execution_count": 9,
   "id": "d642cda1",
   "metadata": {
    "execution": {
     "iopub.execute_input": "2023-06-21T03:19:32.095944Z",
     "iopub.status.busy": "2023-06-21T03:19:32.095440Z",
     "iopub.status.idle": "2023-06-21T03:19:32.103936Z",
     "shell.execute_reply": "2023-06-21T03:19:32.102745Z"
    },
    "papermill": {
     "duration": 0.026609,
     "end_time": "2023-06-21T03:19:32.106625",
     "exception": false,
     "start_time": "2023-06-21T03:19:32.080016",
     "status": "completed"
    },
    "tags": []
   },
   "outputs": [],
   "source": [
    "y_train = np_utils.to_categorical(y_train,10)\n",
    "y_test = np_utils.to_categorical(y_test,10)"
   ]
  },
  {
   "cell_type": "code",
   "execution_count": 10,
   "id": "a2291512",
   "metadata": {
    "execution": {
     "iopub.execute_input": "2023-06-21T03:19:32.136996Z",
     "iopub.status.busy": "2023-06-21T03:19:32.136522Z",
     "iopub.status.idle": "2023-06-21T03:19:32.144122Z",
     "shell.execute_reply": "2023-06-21T03:19:32.142890Z"
    },
    "papermill": {
     "duration": 0.025847,
     "end_time": "2023-06-21T03:19:32.146740",
     "exception": false,
     "start_time": "2023-06-21T03:19:32.120893",
     "status": "completed"
    },
    "tags": []
   },
   "outputs": [
    {
     "data": {
      "text/plain": [
       "array([0., 0., 0., 0., 0., 1., 0., 0., 0., 0.], dtype=float32)"
      ]
     },
     "execution_count": 10,
     "metadata": {},
     "output_type": "execute_result"
    }
   ],
   "source": [
    "# Change the class to One hot encoded vector\n",
    "y_train[0]"
   ]
  },
  {
   "cell_type": "markdown",
   "id": "020f634f",
   "metadata": {
    "papermill": {
     "duration": 0.013609,
     "end_time": "2023-06-21T03:19:32.174862",
     "exception": false,
     "start_time": "2023-06-21T03:19:32.161253",
     "status": "completed"
    },
    "tags": []
   },
   "source": [
    "### Building a Model"
   ]
  },
  {
   "cell_type": "code",
   "execution_count": 11,
   "id": "44fe2701",
   "metadata": {
    "execution": {
     "iopub.execute_input": "2023-06-21T03:19:32.205408Z",
     "iopub.status.busy": "2023-06-21T03:19:32.204913Z",
     "iopub.status.idle": "2023-06-21T03:19:32.211337Z",
     "shell.execute_reply": "2023-06-21T03:19:32.209759Z"
    },
    "papermill": {
     "duration": 0.024919,
     "end_time": "2023-06-21T03:19:32.213894",
     "exception": false,
     "start_time": "2023-06-21T03:19:32.188975",
     "status": "completed"
    },
    "tags": []
   },
   "outputs": [],
   "source": [
    "from keras.models import Sequential\n",
    "from keras.layers import Dense, Activation, Dropout,BatchNormalization\n",
    "\n",
    "import warnings\n",
    "warnings.filterwarnings('ignore')"
   ]
  },
  {
   "cell_type": "code",
   "execution_count": 12,
   "id": "fe4bc0dd",
   "metadata": {
    "execution": {
     "iopub.execute_input": "2023-06-21T03:19:32.244737Z",
     "iopub.status.busy": "2023-06-21T03:19:32.244229Z",
     "iopub.status.idle": "2023-06-21T03:19:32.252003Z",
     "shell.execute_reply": "2023-06-21T03:19:32.250852Z"
    },
    "papermill": {
     "duration": 0.026522,
     "end_time": "2023-06-21T03:19:32.254637",
     "exception": false,
     "start_time": "2023-06-21T03:19:32.228115",
     "status": "completed"
    },
    "tags": []
   },
   "outputs": [
    {
     "data": {
      "text/plain": [
       "784"
      ]
     },
     "execution_count": 12,
     "metadata": {},
     "output_type": "execute_result"
    }
   ],
   "source": [
    "x_train.shape[1]"
   ]
  },
  {
   "cell_type": "code",
   "execution_count": 13,
   "id": "dc79e828",
   "metadata": {
    "execution": {
     "iopub.execute_input": "2023-06-21T03:19:32.286971Z",
     "iopub.status.busy": "2023-06-21T03:19:32.286075Z",
     "iopub.status.idle": "2023-06-21T03:19:32.292248Z",
     "shell.execute_reply": "2023-06-21T03:19:32.290947Z"
    },
    "papermill": {
     "duration": 0.025112,
     "end_time": "2023-06-21T03:19:32.294959",
     "exception": false,
     "start_time": "2023-06-21T03:19:32.269847",
     "status": "completed"
    },
    "tags": []
   },
   "outputs": [],
   "source": [
    "## Assign parameters for the model\n",
    "\n",
    "output_dim = 10\n",
    "input_dim = x_train.shape[1]\n",
    "batch_size = 128\n",
    "epoch_to_put = 10"
   ]
  },
  {
   "cell_type": "code",
   "execution_count": 14,
   "id": "a00fba4b",
   "metadata": {
    "execution": {
     "iopub.execute_input": "2023-06-21T03:19:32.325611Z",
     "iopub.status.busy": "2023-06-21T03:19:32.325139Z",
     "iopub.status.idle": "2023-06-21T03:19:32.333039Z",
     "shell.execute_reply": "2023-06-21T03:19:32.331866Z"
    },
    "papermill": {
     "duration": 0.026361,
     "end_time": "2023-06-21T03:19:32.335560",
     "exception": false,
     "start_time": "2023-06-21T03:19:32.309199",
     "status": "completed"
    },
    "tags": []
   },
   "outputs": [
    {
     "data": {
      "text/plain": [
       "784"
      ]
     },
     "execution_count": 14,
     "metadata": {},
     "output_type": "execute_result"
    }
   ],
   "source": [
    "x_train.shape[1]"
   ]
  },
  {
   "cell_type": "markdown",
   "id": "7c22fd2e",
   "metadata": {
    "papermill": {
     "duration": 0.014133,
     "end_time": "2023-06-21T03:19:32.364282",
     "exception": false,
     "start_time": "2023-06-21T03:19:32.350149",
     "status": "completed"
    },
    "tags": []
   },
   "source": [
    "### Layer Building"
   ]
  },
  {
   "cell_type": "code",
   "execution_count": 15,
   "id": "027357c6",
   "metadata": {
    "execution": {
     "iopub.execute_input": "2023-06-21T03:19:32.395785Z",
     "iopub.status.busy": "2023-06-21T03:19:32.395300Z",
     "iopub.status.idle": "2023-06-21T03:19:32.761798Z",
     "shell.execute_reply": "2023-06-21T03:19:32.760467Z"
    },
    "papermill": {
     "duration": 0.396568,
     "end_time": "2023-06-21T03:19:32.775598",
     "exception": false,
     "start_time": "2023-06-21T03:19:32.379030",
     "status": "completed"
    },
    "tags": []
   },
   "outputs": [
    {
     "name": "stdout",
     "output_type": "stream",
     "text": [
      "Model: \"sequential\"\n",
      "_________________________________________________________________\n",
      " Layer (type)                Output Shape              Param #   \n",
      "=================================================================\n",
      " dense (Dense)               (None, 600)               471000    \n",
      "                                                                 \n",
      " batch_normalization (BatchN  (None, 600)              2400      \n",
      " ormalization)                                                   \n",
      "                                                                 \n",
      " dropout (Dropout)           (None, 600)               0         \n",
      "                                                                 \n",
      " dense_1 (Dense)             (None, 300)               180300    \n",
      "                                                                 \n",
      " batch_normalization_1 (Batc  (None, 300)              1200      \n",
      " hNormalization)                                                 \n",
      "                                                                 \n",
      " dropout_1 (Dropout)         (None, 300)               0         \n",
      "                                                                 \n",
      " dense_2 (Dense)             (None, 140)               42140     \n",
      "                                                                 \n",
      " batch_normalization_2 (Batc  (None, 140)              560       \n",
      " hNormalization)                                                 \n",
      "                                                                 \n",
      " dropout_2 (Dropout)         (None, 140)               0         \n",
      "                                                                 \n",
      " dense_3 (Dense)             (None, 10)                1410      \n",
      "                                                                 \n",
      "=================================================================\n",
      "Total params: 699,010\n",
      "Trainable params: 696,930\n",
      "Non-trainable params: 2,080\n",
      "_________________________________________________________________\n"
     ]
    }
   ],
   "source": [
    "seq = Sequential()\n",
    "seq.add(Dense(600,activation='relu',input_shape=(input_dim,),kernel_initializer=RandomNormal(mean=0.0,stddev=0.05,seed=None)))\n",
    "\n",
    "#Regularization Techniques\n",
    "seq.add(BatchNormalization())\n",
    "seq.add(Dropout(0.5))  # Disabling some Nodes.randomly--> prevent overfitting\n",
    "\n",
    "seq.add(Dense(300,activation='relu',input_shape=(input_dim,),kernel_initializer=RandomNormal(mean=0.0,stddev=0.05,seed=None)))\n",
    "seq.add(BatchNormalization())\n",
    "seq.add(Dropout(0.5))\n",
    "\n",
    "seq.add(Dense(140,activation='relu',input_shape=(input_dim,),kernel_initializer=RandomNormal(mean=0.0,stddev=0.05,seed=None)))\n",
    "seq.add(BatchNormalization())\n",
    "seq.add(Dropout(0.5))\n",
    "\n",
    "seq.add(Dense(output_dim,activation='softmax'))\n",
    "seq.summary()"
   ]
  },
  {
   "cell_type": "markdown",
   "id": "c5d742ac",
   "metadata": {
    "papermill": {
     "duration": 0.01664,
     "end_time": "2023-06-21T03:19:32.809213",
     "exception": false,
     "start_time": "2023-06-21T03:19:32.792573",
     "status": "completed"
    },
    "tags": []
   },
   "source": [
    "## Stochastic Gradient Descent (SGD)"
   ]
  },
  {
   "cell_type": "code",
   "execution_count": 16,
   "id": "e77e6a5d",
   "metadata": {
    "execution": {
     "iopub.execute_input": "2023-06-21T03:19:32.848545Z",
     "iopub.status.busy": "2023-06-21T03:19:32.848103Z",
     "iopub.status.idle": "2023-06-21T03:20:48.979735Z",
     "shell.execute_reply": "2023-06-21T03:20:48.977814Z"
    },
    "papermill": {
     "duration": 76.15584,
     "end_time": "2023-06-21T03:20:48.982563",
     "exception": false,
     "start_time": "2023-06-21T03:19:32.826723",
     "status": "completed"
    },
    "tags": []
   },
   "outputs": [
    {
     "name": "stdout",
     "output_type": "stream",
     "text": [
      "Epoch 1/10\n",
      "469/469 [==============================] - 9s 16ms/step - loss: 1.2094 - accuracy: 0.6197 - val_loss: 0.3545 - val_accuracy: 0.8972\n",
      "Epoch 2/10\n",
      "469/469 [==============================] - 8s 16ms/step - loss: 0.5920 - accuracy: 0.8145 - val_loss: 0.2652 - val_accuracy: 0.9203\n",
      "Epoch 3/10\n",
      "469/469 [==============================] - 7s 15ms/step - loss: 0.4820 - accuracy: 0.8516 - val_loss: 0.2324 - val_accuracy: 0.9275\n",
      "Epoch 4/10\n",
      "469/469 [==============================] - 7s 15ms/step - loss: 0.4252 - accuracy: 0.8699 - val_loss: 0.2075 - val_accuracy: 0.9363\n",
      "Epoch 5/10\n",
      "469/469 [==============================] - 7s 16ms/step - loss: 0.3809 - accuracy: 0.8859 - val_loss: 0.1931 - val_accuracy: 0.9412\n",
      "Epoch 6/10\n",
      "469/469 [==============================] - 7s 16ms/step - loss: 0.3467 - accuracy: 0.8960 - val_loss: 0.1809 - val_accuracy: 0.9448\n",
      "Epoch 7/10\n",
      "469/469 [==============================] - 7s 16ms/step - loss: 0.3269 - accuracy: 0.9016 - val_loss: 0.1707 - val_accuracy: 0.9479\n",
      "Epoch 8/10\n",
      "469/469 [==============================] - 7s 15ms/step - loss: 0.3100 - accuracy: 0.9073 - val_loss: 0.1608 - val_accuracy: 0.9507\n",
      "Epoch 9/10\n",
      "469/469 [==============================] - 7s 15ms/step - loss: 0.2904 - accuracy: 0.9126 - val_loss: 0.1535 - val_accuracy: 0.9518\n",
      "Epoch 10/10\n",
      "469/469 [==============================] - 7s 16ms/step - loss: 0.2764 - accuracy: 0.9175 - val_loss: 0.1475 - val_accuracy: 0.9533\n"
     ]
    }
   ],
   "source": [
    "seq.compile(optimizer='SGD',loss='categorical_crossentropy',metrics=['accuracy'])\n",
    "hist = seq.fit(x_train,y_train,batch_size=batch_size, epochs = epoch_to_put,verbose=1,validation_data=(x_test,y_test)) # use verbose =0 to not display the epochs"
   ]
  },
  {
   "cell_type": "markdown",
   "id": "047e6771",
   "metadata": {
    "papermill": {
     "duration": 0.122889,
     "end_time": "2023-06-21T03:20:49.230789",
     "exception": false,
     "start_time": "2023-06-21T03:20:49.107900",
     "status": "completed"
    },
    "tags": []
   },
   "source": [
    "### Evaluation"
   ]
  },
  {
   "cell_type": "code",
   "execution_count": 17,
   "id": "0d22fb4f",
   "metadata": {
    "execution": {
     "iopub.execute_input": "2023-06-21T03:20:49.480856Z",
     "iopub.status.busy": "2023-06-21T03:20:49.480398Z",
     "iopub.status.idle": "2023-06-21T03:20:50.629007Z",
     "shell.execute_reply": "2023-06-21T03:20:50.627875Z"
    },
    "papermill": {
     "duration": 1.276187,
     "end_time": "2023-06-21T03:20:50.632487",
     "exception": false,
     "start_time": "2023-06-21T03:20:49.356300",
     "status": "completed"
    },
    "tags": []
   },
   "outputs": [
    {
     "name": "stdout",
     "output_type": "stream",
     "text": [
      "313/313 [==============================] - 1s 3ms/step - loss: 0.1475 - accuracy: 0.9533\n"
     ]
    }
   ],
   "source": [
    "score = seq.evaluate(x_test,y_test)"
   ]
  },
  {
   "cell_type": "code",
   "execution_count": 18,
   "id": "59bf044c",
   "metadata": {
    "execution": {
     "iopub.execute_input": "2023-06-21T03:20:50.886743Z",
     "iopub.status.busy": "2023-06-21T03:20:50.886280Z",
     "iopub.status.idle": "2023-06-21T03:20:50.892704Z",
     "shell.execute_reply": "2023-06-21T03:20:50.891617Z"
    },
    "papermill": {
     "duration": 0.135945,
     "end_time": "2023-06-21T03:20:50.895442",
     "exception": false,
     "start_time": "2023-06-21T03:20:50.759497",
     "status": "completed"
    },
    "tags": []
   },
   "outputs": [
    {
     "name": "stdout",
     "output_type": "stream",
     "text": [
      "[0.14750027656555176, 0.9532999992370605]\n"
     ]
    }
   ],
   "source": [
    "print(score)"
   ]
  },
  {
   "cell_type": "code",
   "execution_count": 19,
   "id": "d9a2924a",
   "metadata": {
    "execution": {
     "iopub.execute_input": "2023-06-21T03:20:51.153100Z",
     "iopub.status.busy": "2023-06-21T03:20:51.151787Z",
     "iopub.status.idle": "2023-06-21T03:20:51.158991Z",
     "shell.execute_reply": "2023-06-21T03:20:51.157691Z"
    },
    "papermill": {
     "duration": 0.139211,
     "end_time": "2023-06-21T03:20:51.161638",
     "exception": false,
     "start_time": "2023-06-21T03:20:51.022427",
     "status": "completed"
    },
    "tags": []
   },
   "outputs": [],
   "source": [
    "def visuals(x,val_loss,trn_loss,ax,colors=['b']):\n",
    "    ax.plot(x,val_loss,'-',label='Validation Loss')\n",
    "    ax.plot(x,trn_loss,'-',label='Train Loss')\n",
    "    \n",
    "    plt.legend()\n",
    "    plt.grid()\n",
    "    fig.canvas.draw()"
   ]
  },
  {
   "cell_type": "code",
   "execution_count": 20,
   "id": "ac83b8d0",
   "metadata": {
    "execution": {
     "iopub.execute_input": "2023-06-21T03:20:51.417323Z",
     "iopub.status.busy": "2023-06-21T03:20:51.416112Z",
     "iopub.status.idle": "2023-06-21T03:20:51.424506Z",
     "shell.execute_reply": "2023-06-21T03:20:51.423256Z"
    },
    "papermill": {
     "duration": 0.1405,
     "end_time": "2023-06-21T03:20:51.427419",
     "exception": false,
     "start_time": "2023-06-21T03:20:51.286919",
     "status": "completed"
    },
    "tags": []
   },
   "outputs": [
    {
     "data": {
      "text/plain": [
       "(0.14750027656555176, 0.9532999992370605)"
      ]
     },
     "execution_count": 20,
     "metadata": {},
     "output_type": "execute_result"
    }
   ],
   "source": [
    "# Test score, Test Accuracy\n",
    "score[0], score[1]"
   ]
  },
  {
   "cell_type": "markdown",
   "id": "08d83afb",
   "metadata": {
    "papermill": {
     "duration": 0.124559,
     "end_time": "2023-06-21T03:20:51.677432",
     "exception": false,
     "start_time": "2023-06-21T03:20:51.552873",
     "status": "completed"
    },
    "tags": []
   },
   "source": [
    "## Visualize the Loss"
   ]
  },
  {
   "cell_type": "code",
   "execution_count": 21,
   "id": "4d998cbc",
   "metadata": {
    "execution": {
     "iopub.execute_input": "2023-06-21T03:20:51.932121Z",
     "iopub.status.busy": "2023-06-21T03:20:51.931667Z",
     "iopub.status.idle": "2023-06-21T03:20:52.295565Z",
     "shell.execute_reply": "2023-06-21T03:20:52.294111Z"
    },
    "papermill": {
     "duration": 0.495177,
     "end_time": "2023-06-21T03:20:52.298497",
     "exception": false,
     "start_time": "2023-06-21T03:20:51.803320",
     "status": "completed"
    },
    "tags": []
   },
   "outputs": [
    {
     "data": {
      "image/png": "[encoded data removed]",
      "text/plain": [
       "<Figure size 640x480 with 1 Axes>"
      ]
     },
     "metadata": {},
     "output_type": "display_data"
    }
   ],
   "source": [
    "%matplotlib inline\n",
    "fig,ax = plt.subplots(1,1)\n",
    "ax.set_xlabel('epoch')\n",
    "ax.set_ylabel('loss')\n",
    "\n",
    "x = list(range(1,epoch_to_put+1))\n",
    "val_loss = hist.history['val_loss']\n",
    "trn_loss = hist.history['loss']\n",
    "\n",
    "visuals(x,val_loss,trn_loss,ax)"
   ]
  },
  {
   "cell_type": "markdown",
   "id": "a64f051a",
   "metadata": {
    "papermill": {
     "duration": 0.125049,
     "end_time": "2023-06-21T03:20:52.549654",
     "exception": false,
     "start_time": "2023-06-21T03:20:52.424605",
     "status": "completed"
    },
    "tags": []
   },
   "source": [
    "## ADAGRAD "
   ]
  },
  {
   "cell_type": "code",
   "execution_count": 22,
   "id": "2e3c8127",
   "metadata": {
    "execution": {
     "iopub.execute_input": "2023-06-21T03:20:52.806905Z",
     "iopub.status.busy": "2023-06-21T03:20:52.806399Z",
     "iopub.status.idle": "2023-06-21T03:22:13.857985Z",
     "shell.execute_reply": "2023-06-21T03:22:13.856221Z"
    },
    "papermill": {
     "duration": 81.186676,
     "end_time": "2023-06-21T03:22:13.861199",
     "exception": false,
     "start_time": "2023-06-21T03:20:52.674523",
     "status": "completed"
    },
    "tags": []
   },
   "outputs": [
    {
     "name": "stdout",
     "output_type": "stream",
     "text": [
      "Epoch 1/10\n",
      "469/469 [==============================] - 9s 17ms/step - loss: 0.2685 - accuracy: 0.9204 - val_loss: 0.1461 - val_accuracy: 0.9535\n",
      "Epoch 2/10\n",
      "469/469 [==============================] - 8s 17ms/step - loss: 0.2591 - accuracy: 0.9219 - val_loss: 0.1446 - val_accuracy: 0.9542\n",
      "Epoch 3/10\n",
      "469/469 [==============================] - 8s 17ms/step - loss: 0.2606 - accuracy: 0.9215 - val_loss: 0.1428 - val_accuracy: 0.9546\n",
      "Epoch 4/10\n",
      "469/469 [==============================] - 8s 17ms/step - loss: 0.2587 - accuracy: 0.9232 - val_loss: 0.1410 - val_accuracy: 0.9554\n",
      "Epoch 5/10\n",
      "469/469 [==============================] - 8s 17ms/step - loss: 0.2518 - accuracy: 0.9243 - val_loss: 0.1391 - val_accuracy: 0.9562\n",
      "Epoch 6/10\n",
      "469/469 [==============================] - 8s 17ms/step - loss: 0.2524 - accuracy: 0.9241 - val_loss: 0.1381 - val_accuracy: 0.9569\n",
      "Epoch 7/10\n",
      "469/469 [==============================] - 8s 17ms/step - loss: 0.2459 - accuracy: 0.9267 - val_loss: 0.1369 - val_accuracy: 0.9574\n",
      "Epoch 8/10\n",
      "469/469 [==============================] - 8s 17ms/step - loss: 0.2459 - accuracy: 0.9265 - val_loss: 0.1353 - val_accuracy: 0.9579\n",
      "Epoch 9/10\n",
      "469/469 [==============================] - 8s 17ms/step - loss: 0.2479 - accuracy: 0.9262 - val_loss: 0.1341 - val_accuracy: 0.9578\n",
      "Epoch 10/10\n",
      "469/469 [==============================] - 8s 16ms/step - loss: 0.2408 - accuracy: 0.9286 - val_loss: 0.1329 - val_accuracy: 0.9586\n"
     ]
    }
   ],
   "source": [
    "seq.compile(optimizer='Adagrad',loss='categorical_crossentropy',metrics=['accuracy'])\n",
    "hist = seq.fit(x_train,y_train,batch_size=batch_size, epochs = epoch_to_put,verbose=1,validation_data=(x_test,y_test))"
   ]
  },
  {
   "cell_type": "code",
   "execution_count": 23,
   "id": "50ab58d1",
   "metadata": {
    "execution": {
     "iopub.execute_input": "2023-06-21T03:22:14.430453Z",
     "iopub.status.busy": "2023-06-21T03:22:14.429976Z",
     "iopub.status.idle": "2023-06-21T03:22:15.434850Z",
     "shell.execute_reply": "2023-06-21T03:22:15.433513Z"
    },
    "papermill": {
     "duration": 1.247433,
     "end_time": "2023-06-21T03:22:15.437744",
     "exception": false,
     "start_time": "2023-06-21T03:22:14.190311",
     "status": "completed"
    },
    "tags": []
   },
   "outputs": [
    {
     "name": "stdout",
     "output_type": "stream",
     "text": [
      "[0.13293272256851196, 0.9585999846458435]\n",
      "Test Score: 0.13293272256851196\n",
      "Test Accuracy: 0.9585999846458435\n"
     ]
    }
   ],
   "source": [
    "score = seq.evaluate(x_test,y_test,verbose=0)\n",
    "print(score)\n",
    "print(f'Test Score: {score[0]}')\n",
    "print(f'Test Accuracy: {score[1]}')"
   ]
  },
  {
   "cell_type": "code",
   "execution_count": 24,
   "id": "c173bce5",
   "metadata": {
    "execution": {
     "iopub.execute_input": "2023-06-21T03:22:15.918609Z",
     "iopub.status.busy": "2023-06-21T03:22:15.918192Z",
     "iopub.status.idle": "2023-06-21T03:22:16.303451Z",
     "shell.execute_reply": "2023-06-21T03:22:16.302206Z"
    },
    "papermill": {
     "duration": 0.631095,
     "end_time": "2023-06-21T03:22:16.306047",
     "exception": false,
     "start_time": "2023-06-21T03:22:15.674952",
     "status": "completed"
    },
    "tags": []
   },
   "outputs": [
    {
     "data": {
      "image/png": "[encoded data removed]",
      "text/plain": [
       "<Figure size 640x480 with 1 Axes>"
      ]
     },
     "metadata": {},
     "output_type": "display_data"
    }
   ],
   "source": [
    "%matplotlib inline\n",
    "fig,ax = plt.subplots(1,1)\n",
    "ax.set_xlabel('epoch')\n",
    "ax.set_ylabel('loss')\n",
    "plt.title('Adagrad')\n",
    "\n",
    "x = list(range(1,epoch_to_put+1))\n",
    "val_loss = hist.history['val_loss']\n",
    "trn_loss = hist.history['loss']\n",
    "\n",
    "visuals(x,val_loss,trn_loss,ax) #color is defined in func itself"
   ]
  },
  {
   "cell_type": "markdown",
   "id": "d8f0abfc",
   "metadata": {
    "papermill": {
     "duration": 0.236144,
     "end_time": "2023-06-21T03:22:16.779547",
     "exception": false,
     "start_time": "2023-06-21T03:22:16.543403",
     "status": "completed"
    },
    "tags": []
   },
   "source": [
    "## RMS Prop"
   ]
  },
  {
   "cell_type": "code",
   "execution_count": 25,
   "id": "8e498d48",
   "metadata": {
    "execution": {
     "iopub.execute_input": "2023-06-21T03:22:17.296513Z",
     "iopub.status.busy": "2023-06-21T03:22:17.296056Z",
     "iopub.status.idle": "2023-06-21T03:23:40.384482Z",
     "shell.execute_reply": "2023-06-21T03:23:40.382854Z"
    },
    "papermill": {
     "duration": 83.336109,
     "end_time": "2023-06-21T03:23:40.387706",
     "exception": false,
     "start_time": "2023-06-21T03:22:17.051597",
     "status": "completed"
    },
    "tags": []
   },
   "outputs": [
    {
     "name": "stdout",
     "output_type": "stream",
     "text": [
      "Epoch 1/10\n",
      "469/469 [==============================] - 10s 18ms/step - loss: 0.2345 - accuracy: 0.9305 - val_loss: 0.1191 - val_accuracy: 0.9660\n",
      "Epoch 2/10\n",
      "469/469 [==============================] - 8s 17ms/step - loss: 0.1698 - accuracy: 0.9509 - val_loss: 0.0911 - val_accuracy: 0.9732\n",
      "Epoch 3/10\n",
      "469/469 [==============================] - 8s 17ms/step - loss: 0.1372 - accuracy: 0.9600 - val_loss: 0.0879 - val_accuracy: 0.9742\n",
      "Epoch 4/10\n",
      "469/469 [==============================] - 8s 18ms/step - loss: 0.1169 - accuracy: 0.9661 - val_loss: 0.0726 - val_accuracy: 0.9795\n",
      "Epoch 5/10\n",
      "469/469 [==============================] - 8s 18ms/step - loss: 0.1024 - accuracy: 0.9704 - val_loss: 0.0712 - val_accuracy: 0.9801\n",
      "Epoch 6/10\n",
      "469/469 [==============================] - 8s 17ms/step - loss: 0.0981 - accuracy: 0.9712 - val_loss: 0.0682 - val_accuracy: 0.9804\n",
      "Epoch 7/10\n",
      "469/469 [==============================] - 8s 17ms/step - loss: 0.0896 - accuracy: 0.9739 - val_loss: 0.0689 - val_accuracy: 0.9791\n",
      "Epoch 8/10\n",
      "469/469 [==============================] - 8s 17ms/step - loss: 0.0841 - accuracy: 0.9757 - val_loss: 0.0640 - val_accuracy: 0.9823\n",
      "Epoch 9/10\n",
      "469/469 [==============================] - 8s 17ms/step - loss: 0.0792 - accuracy: 0.9769 - val_loss: 0.0615 - val_accuracy: 0.9821\n",
      "Epoch 10/10\n",
      "469/469 [==============================] - 8s 18ms/step - loss: 0.0776 - accuracy: 0.9766 - val_loss: 0.0637 - val_accuracy: 0.9821\n"
     ]
    }
   ],
   "source": [
    "seq.compile(optimizer='RMSProp',loss='categorical_crossentropy',metrics=['accuracy'])\n",
    "hist = seq.fit(x_train,y_train,batch_size=batch_size, epochs = epoch_to_put,verbose=1,validation_data=(x_test,y_test))"
   ]
  },
  {
   "cell_type": "code",
   "execution_count": 26,
   "id": "2c4add16",
   "metadata": {
    "execution": {
     "iopub.execute_input": "2023-06-21T03:23:41.110839Z",
     "iopub.status.busy": "2023-06-21T03:23:41.110326Z",
     "iopub.status.idle": "2023-06-21T03:23:42.555721Z",
     "shell.execute_reply": "2023-06-21T03:23:42.554469Z"
    },
    "papermill": {
     "duration": 1.815124,
     "end_time": "2023-06-21T03:23:42.558609",
     "exception": false,
     "start_time": "2023-06-21T03:23:40.743485",
     "status": "completed"
    },
    "tags": []
   },
   "outputs": [
    {
     "name": "stdout",
     "output_type": "stream",
     "text": [
      "Test Score: 0.06371888518333435\n",
      "Test Accuracy: 0.9821000099182129\n"
     ]
    },
    {
     "data": {
      "image/png": "[encoded data removed]",
      "text/plain": [
       "<Figure size 640x480 with 1 Axes>"
      ]
     },
     "metadata": {},
     "output_type": "display_data"
    }
   ],
   "source": [
    "score = seq.evaluate(x_test,y_test,verbose=0)\n",
    "print(f'Test Score: {score[0]}')\n",
    "print(f'Test Accuracy: {score[1]}')\n",
    "\n",
    "fig,ax = plt.subplots(1,1)\n",
    "ax.set_xlabel('epoch')\n",
    "ax.set_ylabel('loss')\n",
    "plt.title('RMS Prop')\n",
    "\n",
    "x = list(range(1,epoch_to_put+1))\n",
    "val_loss = hist.history['val_loss']\n",
    "trn_loss = hist.history['loss']\n",
    "\n",
    "visuals(x,val_loss,trn_loss,ax)"
   ]
  },
  {
   "cell_type": "markdown",
   "id": "9b6c70d9",
   "metadata": {
    "papermill": {
     "duration": 0.359531,
     "end_time": "2023-06-21T03:23:43.365101",
     "exception": false,
     "start_time": "2023-06-21T03:23:43.005570",
     "status": "completed"
    },
    "tags": []
   },
   "source": [
    "## ADAM"
   ]
  },
  {
   "cell_type": "code",
   "execution_count": 27,
   "id": "8109266f",
   "metadata": {
    "execution": {
     "iopub.execute_input": "2023-06-21T03:23:44.083109Z",
     "iopub.status.busy": "2023-06-21T03:23:44.081893Z",
     "iopub.status.idle": "2023-06-21T03:25:09.046328Z",
     "shell.execute_reply": "2023-06-21T03:25:09.044259Z"
    },
    "papermill": {
     "duration": 85.329334,
     "end_time": "2023-06-21T03:25:09.050170",
     "exception": false,
     "start_time": "2023-06-21T03:23:43.720836",
     "status": "completed"
    },
    "tags": []
   },
   "outputs": [
    {
     "name": "stdout",
     "output_type": "stream",
     "text": [
      "Epoch 1/10\n",
      "469/469 [==============================] - 10s 18ms/step - loss: 0.0820 - accuracy: 0.9758 - val_loss: 0.0646 - val_accuracy: 0.9814\n",
      "Epoch 2/10\n",
      "469/469 [==============================] - 8s 18ms/step - loss: 0.0791 - accuracy: 0.9767 - val_loss: 0.0611 - val_accuracy: 0.9809\n",
      "Epoch 3/10\n",
      "469/469 [==============================] - 8s 17ms/step - loss: 0.0744 - accuracy: 0.9779 - val_loss: 0.0586 - val_accuracy: 0.9822\n",
      "Epoch 4/10\n",
      "469/469 [==============================] - 8s 17ms/step - loss: 0.0738 - accuracy: 0.9778 - val_loss: 0.0580 - val_accuracy: 0.9832\n",
      "Epoch 5/10\n",
      "469/469 [==============================] - 8s 17ms/step - loss: 0.0706 - accuracy: 0.9782 - val_loss: 0.0580 - val_accuracy: 0.9838\n",
      "Epoch 6/10\n",
      "469/469 [==============================] - 8s 17ms/step - loss: 0.0645 - accuracy: 0.9801 - val_loss: 0.0586 - val_accuracy: 0.9832\n",
      "Epoch 7/10\n",
      "469/469 [==============================] - 8s 18ms/step - loss: 0.0609 - accuracy: 0.9816 - val_loss: 0.0583 - val_accuracy: 0.9836\n",
      "Epoch 8/10\n",
      "469/469 [==============================] - 8s 18ms/step - loss: 0.0591 - accuracy: 0.9819 - val_loss: 0.0613 - val_accuracy: 0.9832\n",
      "Epoch 9/10\n",
      "469/469 [==============================] - 8s 18ms/step - loss: 0.0584 - accuracy: 0.9824 - val_loss: 0.0532 - val_accuracy: 0.9851\n",
      "Epoch 10/10\n",
      "469/469 [==============================] - 8s 18ms/step - loss: 0.0544 - accuracy: 0.9828 - val_loss: 0.0620 - val_accuracy: 0.9821\n"
     ]
    }
   ],
   "source": [
    "seq.compile(optimizer='Adam',loss='categorical_crossentropy',metrics=['accuracy'])\n",
    "hist = seq.fit(x_train,y_train,batch_size=batch_size, epochs = epoch_to_put,verbose=1,validation_data=(x_test,y_test))"
   ]
  },
  {
   "cell_type": "code",
   "execution_count": 28,
   "id": "264b91da",
   "metadata": {
    "execution": {
     "iopub.execute_input": "2023-06-21T03:25:10.101561Z",
     "iopub.status.busy": "2023-06-21T03:25:10.101083Z",
     "iopub.status.idle": "2023-06-21T03:25:11.511650Z",
     "shell.execute_reply": "2023-06-21T03:25:11.510381Z"
    },
    "papermill": {
     "duration": 1.89406,
     "end_time": "2023-06-21T03:25:11.514351",
     "exception": false,
     "start_time": "2023-06-21T03:25:09.620291",
     "status": "completed"
    },
    "tags": []
   },
   "outputs": [
    {
     "name": "stdout",
     "output_type": "stream",
     "text": [
      "Test Score: 0.062008947134017944\n",
      "Test Accuracy: 0.9821000099182129\n"
     ]
    },
    {
     "data": {
      "image/png": "[encoded data removed]",
      "text/plain": [
       "<Figure size 640x480 with 1 Axes>"
      ]
     },
     "metadata": {},
     "output_type": "display_data"
    }
   ],
   "source": [
    "score = seq.evaluate(x_test,y_test,verbose=0)\n",
    "print(f'Test Score: {score[0]}')\n",
    "print(f'Test Accuracy: {score[1]}')\n",
    "\n",
    "fig,ax = plt.subplots(1,1)\n",
    "ax.set_xlabel('epoch')\n",
    "ax.set_ylabel('loss')\n",
    "plt.title('ADAM')\n",
    "\n",
    "x = list(range(1,epoch_to_put+1))\n",
    "val_loss = hist.history['val_loss']\n",
    "trn_loss = hist.history['loss']\n",
    "\n",
    "visuals(x,val_loss,trn_loss,ax)"
   ]
  },
  {
   "cell_type": "markdown",
   "id": "529358cf",
   "metadata": {
    "papermill": {
     "duration": 0.473778,
     "end_time": "2023-06-21T03:25:12.468180",
     "exception": false,
     "start_time": "2023-06-21T03:25:11.994402",
     "status": "completed"
    },
    "tags": []
   },
   "source": [
    "## Things to do to better the performance of Optimizer\n",
    "\n",
    "#### - Increase Epochs\n",
    "#### - Regularization techniques\n",
    "#### - Playy wih Layers\n",
    "#### - Activation functions"
   ]
  },
  {
   "cell_type": "code",
   "execution_count": null,
   "id": "32dac4f2",
   "metadata": {
    "papermill": {
     "duration": 0.570364,
     "end_time": "2023-06-21T03:25:13.520660",
     "exception": false,
     "start_time": "2023-06-21T03:25:12.950296",
     "status": "completed"
    },
    "tags": []
   },
   "outputs": [],
   "source": []
  }
 ],
 "metadata": {
  "kernelspec": {
   "display_name": "Python 3",
   "language": "python",
   "name": "python3"
  },
  "language_info": {
   "codemirror_mode": {
    "name": "ipython",
    "version": 3
   },
   "file_extension": ".py",
   "mimetype": "text/x-python",
   "name": "python",
   "nbconvert_exporter": "python",
   "pygments_lexer": "ipython3",
   "version": "3.10.10"
  },
  "papermill": {
   "default_parameters": {},
   "duration": 369.117788,
   "end_time": "2023-06-21T03:25:17.336257",
   "environment_variables": {},
   "exception": null,
   "input_path": "__notebook__.ipynb",
   "output_path": "__notebook__.ipynb",
   "parameters": {},
   "start_time": "2023-06-21T03:19:08.218469",
   "version": "2.4.0"
  }
 },
 "nbformat": 4,
 "nbformat_minor": 5
}
